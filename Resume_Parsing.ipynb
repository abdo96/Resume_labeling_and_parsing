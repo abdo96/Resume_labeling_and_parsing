{
 "cells": [
  {
   "cell_type": "code",
   "execution_count": 9,
   "id": "a0a447f9",
   "metadata": {},
   "outputs": [],
   "source": [
    "import spacy\n",
    "import random\n",
    "import pandas as pd"
   ]
  },
  {
   "cell_type": "code",
   "execution_count": 10,
   "id": "0955d799",
   "metadata": {},
   "outputs": [],
   "source": [
    "resumes_data=pd.read_csv(\"resume_dataset.csv\")"
   ]
  },
  {
   "cell_type": "code",
   "execution_count": 13,
   "id": "162f3bc7",
   "metadata": {
    "scrolled": false
   },
   "outputs": [],
   "source": [
    "resumes_data['Resume']\n",
    "\n",
    "\n",
    "# handle the hexdecimal characters\n",
    "\n",
    "LATIN_1_CHARS = (\n",
    "    ('\\\\xe2\\\\x80\\\\x99', \"'\"),\n",
    "    ('\\\\xc3\\\\xa9', 'e'),\n",
    "    ('\\\\xe2\\\\x80\\\\x90', '-'),\n",
    "    ('\\\\xe2\\\\x80\\\\x91', '-'),\n",
    "    ('\\\\xe2\\\\x80\\\\x92', '-'),\n",
    "    ('\\\\xe2\\\\x80\\\\x93', '-'),\n",
    "    ('\\\\xe2\\\\x80\\\\x94', '-'),\n",
    "    ('\\\\xe2\\\\x80\\\\x94', '-'),\n",
    "    ('\\\\xe2\\\\x80\\\\x98', \"'\"),\n",
    "    ('\\\\xe2\\\\x80\\\\x9b', \"'\"),\n",
    "    ('\\\\xe2\\\\x80\\\\x9c', '\"'),\n",
    "    ('\\\\xe2\\\\x80\\\\x9c', '\"'),\n",
    "    ('\\\\xe2\\\\x80\\\\x9d', '\"'),\n",
    "    ('\\\\xe2\\\\x80\\\\x9e', '\"'),\n",
    "    ('\\\\xe2\\\\x80\\\\x9f', '\"'),\n",
    "    ('\\\\xe2\\\\x80\\\\xa6', '...'),\n",
    "    ('\\\\xe2\\\\x80\\\\xb2', \"'\"),\n",
    "    ('\\\\xe2\\\\x80\\\\xb3', \"'\"),\n",
    "    ('\\\\xe2\\\\x80\\\\xb4', \"'\"),\n",
    "    ('\\\\xe2\\\\x80\\\\xb5', \"'\"),\n",
    "    ('\\\\xe2\\\\x80\\\\xb6', \"'\"),\n",
    "    ('\\\\xe2\\\\x80\\\\xb7', \"'\"),\n",
    "    ('\\\\xe2\\\\x81\\\\xba', \"+\"),\n",
    "    ('\\\\xe2\\\\x81\\\\xbb', \"-\"),\n",
    "    ('\\\\xe2\\\\x81\\\\xbc', \"=\"),\n",
    "    ('\\\\xe2\\\\x81\\\\xbd', \"(\"),\n",
    "    ('\\\\xe2\\\\x81\\\\xbe', \")\"),\n",
    "    ('\\\\xe2\\\\x81\\\\xb3','⁳'),\n",
    "    ('\\\\xef\\\\x81\\\\xb3',''),\n",
    "    ('\\xef\\x81\\xb7','.')\n",
    ")"
   ]
  },
  {
   "cell_type": "code",
   "execution_count": 14,
   "id": "2f3f9763",
   "metadata": {},
   "outputs": [],
   "source": [
    "def clean_latin(data):\n",
    "    \"\"\"decode the string try to replace the latin unicode into \"\"\"\n",
    "    \n",
    "    for _hex,_char in LATIN_1_CHARS:\n",
    "            data = data.replace(_hex, _char)\n",
    "            \n",
    "       \n",
    "    return data \n",
    "        "
   ]
  },
  {
   "cell_type": "code",
   "execution_count": 15,
   "id": "390cefad",
   "metadata": {},
   "outputs": [
    {
     "data": {
      "text/plain": [
       "\"b'John H. Smith, P.H.R.\\\\n800-991-5187 | PO Box 1673 | Callahan, FL 32011 | info@greatresumesfast.com\\\\n\\\\nApproachable innovator with a passion for Human Resources.\\\\n\\\\nSENIOR HUMAN RESOURCES PROFESSIONAL\\\\nPersonable, analytical, flexible Senior HR Professional with multifaceted expertise. Seasoned Benefits Administrator with\\\\nextensive experience working with highly paid professionals in client-relationship-based settings. Dynamic team leader\\\\ncapable of analyzing alternatives and identifying tough choices while communicating the total value of benefit and\\\\ncompensation packages to senior level executives and employees.\\\\n\\\\nCORE COMPETENCIES\\\\nBenefits Administration \\\\xe2\\\\x80\\\\x93 Customer Service \\\\xe2\\\\x80\\\\x93 Cost Control \\\\xe2\\\\x80\\\\x93 Recruiting \\\\xe2\\\\x80\\\\x93 Acquisition Management \\\\xe2\\\\x80\\\\x93 Compliance Reporting\\\\nRetention \\\\xe2\\\\x80\\\\x93 Professional Services \\\\xe2\\\\x80\\\\x93 Domestic & International Benefits \\\\xe2\\\\x80\\\\x93 Collaboration \\\\xe2\\\\x80\\\\x93 Adaptability \\\\xe2\\\\x80\\\\x93 Change Management\\\\nDefined Contribution Plans \\\\xe2\\\\x80\\\\x93 Auditing \\\\xe2\\\\x80\\\\x93 Negotiation \\\\xe2\\\\x80\\\\x93 Corporate HR Policies \\\\xe2\\\\x80\\\\x93 Full Lifecycle Training \\\\xe2\\\\x80\\\\x93 401(k) \\\\xe2\\\\x80\\\\x93 Form 5500\\\\nConfidential Files \\\\xe2\\\\x80\\\\x93 EEO-1 \\\\xe2\\\\x80\\\\x93 AAP \\\\xe2\\\\x80\\\\x93 FMLA \\\\xe2\\\\x80\\\\x93 STD \\\\xe2\\\\x80\\\\x93 LTD \\\\xe2\\\\x80\\\\x93 H1-B Visa \\\\xe2\\\\x80\\\\x93 Vets 100 \\\\xe2\\\\x80\\\\x93 EAP \\\\xe2\\\\x80\\\\x93 Processing Payroll\\\\n\\\\nHR TECHNOLOGY\\\\n\\\\nHRIS Data Management & Auditing \\\\xe2\\\\x80\\\\x93 Ultipro Back Office \\\\xe2\\\\x80\\\\x93 Ultipro Web Connect\\\\nDeltek Costpoint \\\\xe2\\\\x80\\\\x93 Deltek GCS Premiere \\\\xe2\\\\x80\\\\x93 Cognos \\\\xe2\\\\x80\\\\x93 ADP\\\\n\\\\nProfessional Experience\\\\nHUMAN SERVICES, INC. \\\\xe2\\\\x80\\\\x93 Tampa, FL\\\\n\\\\n2010\\\\xe2\\\\x80\\\\x93Present\\\\n\\\\nProviding institutional behavioral health and medical management contracting services | 2,500 employees\\\\n\\\\nBenefits Manager\\\\nManage and administer a robust $13M health and welfare program; administer benefits programs for two smaller\\\\nminority business enterprise clients. Deliver excellence in client services, leveraging interpersonal skills to establish\\\\nrapport with team members. Perform cost analysis, gather claims data, coordinate enrollment and more for a large selffunded medical plan plus two smaller fully-insured plans. Analyze data and projections to create forecasts in narrative\\\\nand graph format; clearly and succinctly communicate trends to senior management in meetings. Directly supervise\\\\nstaff of 3: HR Admin, plus two Human Resource specialists.\\\\n\\\\xef\\\\x81\\\\xb3 Lead Healthcare Reform change management process, analyzing changes, developing strategic plans, and\\\\n\\\\ntimeline for crucial decisions ahead of 2014 deadlines. Communicate early changes in dependent coverage,\\\\npreventive care, and lifetime maximum benefits to employees.\\\\n\\\\n\\\\xef\\\\x81\\\\xb3 Identified, researched, and implemented HSA (Healthcare Savings Account) health insurance option for high-\\\\n\\\\ndeductible health insurance plan to provide tax-sheltered benefits for physicians and other high-income, highprofile professionals.\\\\n\\\\n\\\\xef\\\\x81\\\\xb3 Saved $30K annually by restructuring the open enrollment strategy, leveraging existing human capital and HR\\\\n\\\\nbusiness partners to achieve better communication at lower cost.\\\\n\\\\n\\\\xef\\\\x81\\\\xb3 Quickly establish rapport with employees; balance client-relationship needs with organizational goals, cost\\\\n\\\\ncontrols, and compliance requirements to create a positive work environment.\\\\n\\\\n\\\\xef\\\\x81\\\\xb3 Maximize employee recruiting and retention by implementing competitive benefits packages and clearly\\\\n\\\\ncommunicating their value to team members.\\\\n\\\\n\\\\xef\\\\x81\\\\xb3 Reduced costs $20K per year by collaborating closely with legal department to create an in-house total comp\\\\n\\\\nstatement including implications for taxes and social security; produced a better-quality analysis at lower costs.\\\\n\\\\n\\\\x0cJohn H. Smith, P.H.R. \\\\xe2\\\\x80\\\\x93 PAGE 2\\\\n\\\\n800-991-5187|info@greatresumesfast.com\\\\n\\\\nApproachable innovator with a passion for Human Resources.\\\\nHUMAN MANAGEMENT INC. \\\\xe2\\\\x80\\\\x93 Atlanta, GA\\\\n\\\\n2008\\\\xe2\\\\x80\\\\x932010\\\\n\\\\nNonprofit government consulting firm | 1,200 domestic and international employees\\\\n\\\\nSenior Human Resources Generalist\\\\nPerformed diverse Human Resources functions: administered benefits, led special projects, updated policies,\\\\ncollaborated on EEO-1, Vets 100, and Affirmative Action Plan (AAP) reporting. Revamped orientation and training\\\\nprograms for newly hired employees to include comprehensive information delivered in more-personal formats:\\\\nteleconferences, small group meetings, tours, and one-on-one conversations, with follow-up phone calls. Supervised HR\\\\nAssistant and up to 3 temporary Human Resource specialists handling high volume of work during peak periods such as\\\\nopen enrollment and company merger.\\\\n\\\\xef\\\\x81\\\\xb3 Led change management process that seamlessly integrated benefits, compensation, retirement plans, and\\\\n\\\\nlogistics for newly acquired company with 60+ employees; prepared all-encompassing reports on total\\\\ncompensation plans.\\\\n\\\\n\\\\xef\\\\x81\\\\xb3 Developed webinars and personal meetings to communicate value of benefits to employees despite reductions\\\\n\\\\nduring an economic recession; maintained employee retention and job satisfaction rankings despite cutbacks.\\\\n\\\\n\\\\xef\\\\x81\\\\xb3 Reduced overall benefit costs 10% including a decrease in STD benefits from 100% to 75% of base\\\\n\\\\ncompensation without significant increase in employee turnover.\\\\n\\\\n\\\\xef\\\\x81\\\\xb3 Researched and procured benefits for government contractors traveling to hazardous areas including Kidnap &\\\\n\\\\nRansom (K&R), increased life insurance, and travel insurance.\\\\n\\\\n\\\\xef\\\\x81\\\\xb3 Identified and implemented medical and dental benefit plans to ensure comparable compensation for\\\\n\\\\ninternational employees worldwide.\\\\n\\\\n\\\\xef\\\\x81\\\\xb3 Managed diverse retirement plans including defined contribution 403(b), 401(a), and executive 457(b) plans.\\\\n\\\\nABC CORPORATION \\\\xe2\\\\x80\\\\x93 New York, NY\\\\n\\\\n2007\\\\xe2\\\\x80\\\\x932008\\\\n\\\\nEngineering and Construction consulting | 500 international and domestic employees\\\\nSenior Human Resources Generalist\\\\nACME, INC. \\\\xe2\\\\x80\\\\x93 Washington, D.C.\\\\n\\\\n2004\\\\xe2\\\\x80\\\\x932006\\\\n\\\\nProfessional services consulting firm | 300 employees\\\\nHR Generalist / Benefits Specialist\\\\n\\\\nHUMAN RESOURCE CORPORATION \\\\xe2\\\\x80\\\\x93 Tampa, FL\\\\nIT & environmental management consulting firm | 300 employees\\\\nHuman Resources Assistant\\\\n\\\\nEducation, Certification, & Affiliation\\\\nBachelor of Science in Psychology, 2002\\\\nCOMMUNITY COLLEGE\\\\nProfessional in Human Resources (PHR) Certificate, 2010\\\\nEmployee Benefit Specialist (CEBS), Certification Pending\\\\nMember SHRM \\\\xe2\\\\x80\\\\x93 Society for Human Resource Management\\\\n\\\\n2002\\\\xe2\\\\x80\\\\x932004'\""
      ]
     },
     "execution_count": 15,
     "metadata": {},
     "output_type": "execute_result"
    }
   ],
   "source": [
    "resumes_data['Resume'][0]"
   ]
  },
  {
   "cell_type": "code",
   "execution_count": 20,
   "id": "6d7b76a5",
   "metadata": {},
   "outputs": [
    {
     "data": {
      "text/plain": [
       "\"b'John H. Smith, P.H.R.\\\\n800-991-5187 | PO Box 1673 | Callahan, FL 32011 | info@greatresumesfast.com\\\\n\\\\nApproachable innovator with a passion for Human Resources.\\\\n\\\\nSENIOR HUMAN RESOURCES PROFESSIONAL\\\\nPersonable, analytical, flexible Senior HR Professional with multifaceted expertise. Seasoned Benefits Administrator with\\\\nextensive experience working with highly paid professionals in client-relationship-based settings. Dynamic team leader\\\\ncapable of analyzing alternatives and identifying tough choices while communicating the total value of benefit and\\\\ncompensation packages to senior level executives and employees.\\\\n\\\\nCORE COMPETENCIES\\\\nBenefits Administration \\\\xe2\\\\x80\\\\x93 Customer Service \\\\xe2\\\\x80\\\\x93 Cost Control \\\\xe2\\\\x80\\\\x93 Recruiting \\\\xe2\\\\x80\\\\x93 Acquisition Management \\\\xe2\\\\x80\\\\x93 Compliance Reporting\\\\nRetention \\\\xe2\\\\x80\\\\x93 Professional Services \\\\xe2\\\\x80\\\\x93 Domestic & International Benefits \\\\xe2\\\\x80\\\\x93 Collaboration \\\\xe2\\\\x80\\\\x93 Adaptability \\\\xe2\\\\x80\\\\x93 Change Management\\\\nDefined Contribution Plans \\\\xe2\\\\x80\\\\x93 Auditing \\\\xe2\\\\x80\\\\x93 Negotiation \\\\xe2\\\\x80\\\\x93 Corporate HR Policies \\\\xe2\\\\x80\\\\x93 Full Lifecycle Training \\\\xe2\\\\x80\\\\x93 401(k) \\\\xe2\\\\x80\\\\x93 Form 5500\\\\nConfidential Files \\\\xe2\\\\x80\\\\x93 EEO-1 \\\\xe2\\\\x80\\\\x93 AAP \\\\xe2\\\\x80\\\\x93 FMLA \\\\xe2\\\\x80\\\\x93 STD \\\\xe2\\\\x80\\\\x93 LTD \\\\xe2\\\\x80\\\\x93 H1-B Visa \\\\xe2\\\\x80\\\\x93 Vets 100 \\\\xe2\\\\x80\\\\x93 EAP \\\\xe2\\\\x80\\\\x93 Processing Payroll\\\\n\\\\nHR TECHNOLOGY\\\\n\\\\nHRIS Data Management & Auditing \\\\xe2\\\\x80\\\\x93 Ultipro Back Office \\\\xe2\\\\x80\\\\x93 Ultipro Web Connect\\\\nDeltek Costpoint \\\\xe2\\\\x80\\\\x93 Deltek GCS Premiere \\\\xe2\\\\x80\\\\x93 Cognos \\\\xe2\\\\x80\\\\x93 ADP\\\\n\\\\nProfessional Experience\\\\nHUMAN SERVICES, INC. \\\\xe2\\\\x80\\\\x93 Tampa, FL\\\\n\\\\n2010\\\\xe2\\\\x80\\\\x93Present\\\\n\\\\nProviding institutional behavioral health and medical management contracting services | 2,500 employees\\\\n\\\\nBenefits Manager\\\\nManage and administer a robust $13M health and welfare program; administer benefits programs for two smaller\\\\nminority business enterprise clients. Deliver excellence in client services, leveraging interpersonal skills to establish\\\\nrapport with team members. Perform cost analysis, gather claims data, coordinate enrollment and more for a large selffunded medical plan plus two smaller fully-insured plans. Analyze data and projections to create forecasts in narrative\\\\nand graph format; clearly and succinctly communicate trends to senior management in meetings. Directly supervise\\\\nstaff of 3: HR Admin, plus two Human Resource specialists.\\\\n\\\\xef\\\\x81\\\\xb3 Lead Healthcare Reform change management process, analyzing changes, developing strategic plans, and\\\\n\\\\ntimeline for crucial decisions ahead of 2014 deadlines. Communicate early changes in dependent coverage,\\\\npreventive care, and lifetime maximum benefits to employees.\\\\n\\\\n\\\\xef\\\\x81\\\\xb3 Identified, researched, and implemented HSA (Healthcare Savings Account) health insurance option for high-\\\\n\\\\ndeductible health insurance plan to provide tax-sheltered benefits for physicians and other high-income, highprofile professionals.\\\\n\\\\n\\\\xef\\\\x81\\\\xb3 Saved $30K annually by restructuring the open enrollment strategy, leveraging existing human capital and HR\\\\n\\\\nbusiness partners to achieve better communication at lower cost.\\\\n\\\\n\\\\xef\\\\x81\\\\xb3 Quickly establish rapport with employees; balance client-relationship needs with organizational goals, cost\\\\n\\\\ncontrols, and compliance requirements to create a positive work environment.\\\\n\\\\n\\\\xef\\\\x81\\\\xb3 Maximize employee recruiting and retention by implementing competitive benefits packages and clearly\\\\n\\\\ncommunicating their value to team members.\\\\n\\\\n\\\\xef\\\\x81\\\\xb3 Reduced costs $20K per year by collaborating closely with legal department to create an in-house total comp\\\\n\\\\nstatement including implications for taxes and social security; produced a better-quality analysis at lower costs.\\\\n\\\\n\\\\x0cJohn H. Smith, P.H.R. \\\\xe2\\\\x80\\\\x93 PAGE 2\\\\n\\\\n800-991-5187|info@greatresumesfast.com\\\\n\\\\nApproachable innovator with a passion for Human Resources.\\\\nHUMAN MANAGEMENT INC. \\\\xe2\\\\x80\\\\x93 Atlanta, GA\\\\n\\\\n2008\\\\xe2\\\\x80\\\\x932010\\\\n\\\\nNonprofit government consulting firm | 1,200 domestic and international employees\\\\n\\\\nSenior Human Resources Generalist\\\\nPerformed diverse Human Resources functions: administered benefits, led special projects, updated policies,\\\\ncollaborated on EEO-1, Vets 100, and Affirmative Action Plan (AAP) reporting. Revamped orientation and training\\\\nprograms for newly hired employees to include comprehensive information delivered in more-personal formats:\\\\nteleconferences, small group meetings, tours, and one-on-one conversations, with follow-up phone calls. Supervised HR\\\\nAssistant and up to 3 temporary Human Resource specialists handling high volume of work during peak periods such as\\\\nopen enrollment and company merger.\\\\n\\\\xef\\\\x81\\\\xb3 Led change management process that seamlessly integrated benefits, compensation, retirement plans, and\\\\n\\\\nlogistics for newly acquired company with 60+ employees; prepared all-encompassing reports on total\\\\ncompensation plans.\\\\n\\\\n\\\\xef\\\\x81\\\\xb3 Developed webinars and personal meetings to communicate value of benefits to employees despite reductions\\\\n\\\\nduring an economic recession; maintained employee retention and job satisfaction rankings despite cutbacks.\\\\n\\\\n\\\\xef\\\\x81\\\\xb3 Reduced overall benefit costs 10% including a decrease in STD benefits from 100% to 75% of base\\\\n\\\\ncompensation without significant increase in employee turnover.\\\\n\\\\n\\\\xef\\\\x81\\\\xb3 Researched and procured benefits for government contractors traveling to hazardous areas including Kidnap &\\\\n\\\\nRansom (K&R), increased life insurance, and travel insurance.\\\\n\\\\n\\\\xef\\\\x81\\\\xb3 Identified and implemented medical and dental benefit plans to ensure comparable compensation for\\\\n\\\\ninternational employees worldwide.\\\\n\\\\n\\\\xef\\\\x81\\\\xb3 Managed diverse retirement plans including defined contribution 403(b), 401(a), and executive 457(b) plans.\\\\n\\\\nABC CORPORATION \\\\xe2\\\\x80\\\\x93 New York, NY\\\\n\\\\n2007\\\\xe2\\\\x80\\\\x932008\\\\n\\\\nEngineering and Construction consulting | 500 international and domestic employees\\\\nSenior Human Resources Generalist\\\\nACME, INC. \\\\xe2\\\\x80\\\\x93 Washington, D.C.\\\\n\\\\n2004\\\\xe2\\\\x80\\\\x932006\\\\n\\\\nProfessional services consulting firm | 300 employees\\\\nHR Generalist / Benefits Specialist\\\\n\\\\nHUMAN RESOURCE CORPORATION \\\\xe2\\\\x80\\\\x93 Tampa, FL\\\\nIT & environmental management consulting firm | 300 employees\\\\nHuman Resources Assistant\\\\n\\\\nEducation, Certification, & Affiliation\\\\nBachelor of Science in Psychology, 2002\\\\nCOMMUNITY COLLEGE\\\\nProfessional in Human Resources (PHR) Certificate, 2010\\\\nEmployee Benefit Specialist (CEBS), Certification Pending\\\\nMember SHRM \\\\xe2\\\\x80\\\\x93 Society for Human Resource Management\\\\n\\\\n2002\\\\xe2\\\\x80\\\\x932004'\""
      ]
     },
     "execution_count": 20,
     "metadata": {},
     "output_type": "execute_result"
    }
   ],
   "source": [
    "resumes_data['Resume'][0]"
   ]
  },
  {
   "cell_type": "code",
   "execution_count": 10,
   "id": "7840d036",
   "metadata": {},
   "outputs": [
    {
     "data": {
      "text/plain": [
       "b'\\xc3\\xa2\\xc2\\x80\\xc2\\x93'"
      ]
     },
     "execution_count": 10,
     "metadata": {},
     "output_type": "execute_result"
    }
   ],
   "source": [
    "'\\xe2\\x80\\x93'.encode('utf-8')"
   ]
  },
  {
   "cell_type": "code",
   "execution_count": 44,
   "id": "876e8b4d",
   "metadata": {},
   "outputs": [
    {
     "ename": "OSError",
     "evalue": "[E050] Can't find model 'en_core_web_lg'. It doesn't seem to be a Python package or a valid path to a data directory.",
     "output_type": "error",
     "traceback": [
      "\u001b[0;31m---------------------------------------------------------------------------\u001b[0m",
      "\u001b[0;31mOSError\u001b[0m                                   Traceback (most recent call last)",
      "Input \u001b[0;32mIn [44]\u001b[0m, in \u001b[0;36m<module>\u001b[0;34m\u001b[0m\n\u001b[1;32m      1\u001b[0m \u001b[38;5;28;01mimport\u001b[39;00m \u001b[38;5;21;01mspacy\u001b[39;00m\n\u001b[0;32m----> 2\u001b[0m nlp \u001b[38;5;241m=\u001b[39m \u001b[43mspacy\u001b[49m\u001b[38;5;241;43m.\u001b[39;49m\u001b[43mload\u001b[49m\u001b[43m(\u001b[49m\u001b[38;5;124;43m\"\u001b[39;49m\u001b[38;5;124;43men_core_web_lg\u001b[39;49m\u001b[38;5;124;43m\"\u001b[39;49m\u001b[43m)\u001b[49m\n\u001b[1;32m      3\u001b[0m text_from_fig \u001b[38;5;241m=\u001b[39m \u001b[38;5;124m\"\u001b[39m\u001b[38;5;124mOn Tuesday, Apple announced its plans for another major chunk of the money: It will buy back a further $75 billion in stock.\u001b[39m\u001b[38;5;124m\"\u001b[39m\n\u001b[1;32m      4\u001b[0m doc \u001b[38;5;241m=\u001b[39m nlp(text_from_fig)\n",
      "File \u001b[0;32m~/.local/lib/python3.8/site-packages/spacy/__init__.py:54\u001b[0m, in \u001b[0;36mload\u001b[0;34m(name, vocab, disable, enable, exclude, config)\u001b[0m\n\u001b[1;32m     30\u001b[0m \u001b[38;5;28;01mdef\u001b[39;00m \u001b[38;5;21mload\u001b[39m(\n\u001b[1;32m     31\u001b[0m     name: Union[\u001b[38;5;28mstr\u001b[39m, Path],\n\u001b[1;32m     32\u001b[0m     \u001b[38;5;241m*\u001b[39m,\n\u001b[0;32m   (...)\u001b[0m\n\u001b[1;32m     37\u001b[0m     config: Union[Dict[\u001b[38;5;28mstr\u001b[39m, Any], Config] \u001b[38;5;241m=\u001b[39m util\u001b[38;5;241m.\u001b[39mSimpleFrozenDict(),\n\u001b[1;32m     38\u001b[0m ) \u001b[38;5;241m-\u001b[39m\u001b[38;5;241m>\u001b[39m Language:\n\u001b[1;32m     39\u001b[0m     \u001b[38;5;124;03m\"\"\"Load a spaCy model from an installed package or a local path.\u001b[39;00m\n\u001b[1;32m     40\u001b[0m \n\u001b[1;32m     41\u001b[0m \u001b[38;5;124;03m    name (str): Package name or model path.\u001b[39;00m\n\u001b[0;32m   (...)\u001b[0m\n\u001b[1;32m     52\u001b[0m \u001b[38;5;124;03m    RETURNS (Language): The loaded nlp object.\u001b[39;00m\n\u001b[1;32m     53\u001b[0m \u001b[38;5;124;03m    \"\"\"\u001b[39;00m\n\u001b[0;32m---> 54\u001b[0m     \u001b[38;5;28;01mreturn\u001b[39;00m \u001b[43mutil\u001b[49m\u001b[38;5;241;43m.\u001b[39;49m\u001b[43mload_model\u001b[49m\u001b[43m(\u001b[49m\n\u001b[1;32m     55\u001b[0m \u001b[43m        \u001b[49m\u001b[43mname\u001b[49m\u001b[43m,\u001b[49m\n\u001b[1;32m     56\u001b[0m \u001b[43m        \u001b[49m\u001b[43mvocab\u001b[49m\u001b[38;5;241;43m=\u001b[39;49m\u001b[43mvocab\u001b[49m\u001b[43m,\u001b[49m\n\u001b[1;32m     57\u001b[0m \u001b[43m        \u001b[49m\u001b[43mdisable\u001b[49m\u001b[38;5;241;43m=\u001b[39;49m\u001b[43mdisable\u001b[49m\u001b[43m,\u001b[49m\n\u001b[1;32m     58\u001b[0m \u001b[43m        \u001b[49m\u001b[43menable\u001b[49m\u001b[38;5;241;43m=\u001b[39;49m\u001b[43menable\u001b[49m\u001b[43m,\u001b[49m\n\u001b[1;32m     59\u001b[0m \u001b[43m        \u001b[49m\u001b[43mexclude\u001b[49m\u001b[38;5;241;43m=\u001b[39;49m\u001b[43mexclude\u001b[49m\u001b[43m,\u001b[49m\n\u001b[1;32m     60\u001b[0m \u001b[43m        \u001b[49m\u001b[43mconfig\u001b[49m\u001b[38;5;241;43m=\u001b[39;49m\u001b[43mconfig\u001b[49m\u001b[43m,\u001b[49m\n\u001b[1;32m     61\u001b[0m \u001b[43m    \u001b[49m\u001b[43m)\u001b[49m\n",
      "File \u001b[0;32m~/.local/lib/python3.8/site-packages/spacy/util.py:436\u001b[0m, in \u001b[0;36mload_model\u001b[0;34m(name, vocab, disable, enable, exclude, config)\u001b[0m\n\u001b[1;32m    434\u001b[0m \u001b[38;5;28;01mif\u001b[39;00m name \u001b[38;5;129;01min\u001b[39;00m OLD_MODEL_SHORTCUTS:\n\u001b[1;32m    435\u001b[0m     \u001b[38;5;28;01mraise\u001b[39;00m \u001b[38;5;167;01mIOError\u001b[39;00m(Errors\u001b[38;5;241m.\u001b[39mE941\u001b[38;5;241m.\u001b[39mformat(name\u001b[38;5;241m=\u001b[39mname, full\u001b[38;5;241m=\u001b[39mOLD_MODEL_SHORTCUTS[name]))  \u001b[38;5;66;03m# type: ignore[index]\u001b[39;00m\n\u001b[0;32m--> 436\u001b[0m \u001b[38;5;28;01mraise\u001b[39;00m \u001b[38;5;167;01mIOError\u001b[39;00m(Errors\u001b[38;5;241m.\u001b[39mE050\u001b[38;5;241m.\u001b[39mformat(name\u001b[38;5;241m=\u001b[39mname))\n",
      "\u001b[0;31mOSError\u001b[0m: [E050] Can't find model 'en_core_web_lg'. It doesn't seem to be a Python package or a valid path to a data directory."
     ]
    }
   ],
   "source": [
    "import spacy\n",
    "nlp = spacy.load(\"en_core_web_lg\")\n",
    "text_from_fig = \"On Tuesday, Apple announced its plans for another major chunk of the money: It will buy back a further $75 billion in stock.\"\n",
    "doc = nlp(text_from_fig)\n",
    "for ent in doc.ents:\n",
    "    if ent.text:\n",
    "        print(ent.text, \"\\t\", ent.label_)"
   ]
  },
  {
   "cell_type": "code",
   "execution_count": 15,
   "id": "cfbbf83a",
   "metadata": {},
   "outputs": [],
   "source": [
    "nlp = spacy.blank('en')"
   ]
  },
  {
   "cell_type": "code",
   "execution_count": null,
   "id": "7a95b28b",
   "metadata": {},
   "outputs": [],
   "source": [
    "def train_model(train_data):\n",
    "    if 'ner' not in nlp.pipe_names:\n",
    "        ner = nlp.create_pipe('ner')\n",
    "        "
   ]
  }
 ],
 "metadata": {
  "kernelspec": {
   "display_name": "Python 3 (ipykernel)",
   "language": "python",
   "name": "python3"
  },
  "language_info": {
   "codemirror_mode": {
    "name": "ipython",
    "version": 3
   },
   "file_extension": ".py",
   "mimetype": "text/x-python",
   "name": "python",
   "nbconvert_exporter": "python",
   "pygments_lexer": "ipython3",
   "version": "3.8.10"
  }
 },
 "nbformat": 4,
 "nbformat_minor": 5
}
